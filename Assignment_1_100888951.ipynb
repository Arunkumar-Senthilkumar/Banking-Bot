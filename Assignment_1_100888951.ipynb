{
  "nbformat": 4,
  "nbformat_minor": 0,
  "metadata": {
    "colab": {
      "provenance": [],
      "authorship_tag": "ABX9TyNG8buDHn4FSQnYdmYdwV4j",
      "include_colab_link": true
    },
    "kernelspec": {
      "name": "python3",
      "display_name": "Python 3"
    },
    "language_info": {
      "name": "python"
    }
  },
  "cells": [
    {
      "cell_type": "markdown",
      "metadata": {
        "id": "view-in-github",
        "colab_type": "text"
      },
      "source": [
        "<a href=\"https://colab.research.google.com/github/Arunkumar-Senthilkumar/Banking-Bot/blob/main/Assignment_1_100888951.ipynb\" target=\"_parent\"><img src=\"https://colab.research.google.com/assets/colab-badge.svg\" alt=\"Open In Colab\"/></a>"
      ]
    },
    {
      "cell_type": "markdown",
      "source": [
        "# Intoduction to AI Development\n",
        "  ## Assignment - 1\n",
        "## Arunkumar Senthilkumar - 100888951"
      ],
      "metadata": {
        "id": "mGP3S9dqcXDD"
      }
    },
    {
      "cell_type": "code",
      "source": [
        "class Pizza:\n",
        "    valid_sizes = ['small', 'medium', 'large', 'x-large']\n",
        "    size_prices = {'small': 6.49, 'medium': 8.49, 'large': 10.49, 'x-large': 13.49}\n",
        "\n",
        "    def __init__(self, size='medium', toppings=['cheese']):\n",
        "        self.__size = size\n",
        "        self._toppings = toppings\n",
        "\n",
        "    def add(self, toppings):\n",
        "        self._toppings.extend(toppings)\n",
        "\n",
        "    @property\n",
        "    def price(self):\n",
        "        price = len(self._toppings) * 0.5\n",
        "        price += Pizza.size_prices[self.__size]\n",
        "        return f'${price}'\n",
        "\n",
        "    def __str__(self):\n",
        "        return f'{self.__size} pizza with {self._toppings} for {self.price}'\n",
        "\n",
        "    @property\n",
        "    def size(self):\n",
        "        return self.__size\n",
        "\n",
        "    @size.setter\n",
        "    def size(self, new_size):\n",
        "        if new_size in Pizza.valid_sizes:\n",
        "            self.__size = new_size\n",
        "        else:\n",
        "            raise ValueError(f\"ERROR: {new_size} is not a valid size for a pizza\")\n"
      ],
      "metadata": {
        "id": "757EzFGwnyua"
      },
      "execution_count": 39,
      "outputs": []
    },
    {
      "cell_type": "code",
      "source": [
        "print(f'Creating a default pizza')\n",
        "p = Pizza()\n",
        "print(p)\n",
        "\n",
        "toppings = 'cheese olive'.split()\n",
        "print(f'\\nAdding topping: {toppings}')\n",
        "p.add(toppings=toppings)\n",
        "print(p)\n",
        "\n",
        "print(f'\\nCreating a new pizza')\n",
        "p = Pizza('large', 'cheese pepper'.split())\n",
        "print(p)\n",
        "\n",
        "toppings = ['pineapple', 'mushroom']\n",
        "print(f'\\nAdding topping: {toppings}')\n",
        "p.add(toppings)\n",
        "print(p)\n",
        "\n",
        "size = 'x-large'\n",
        "p.size = size\n",
        "print(f'\\nChanging order size to {size}')\n",
        "print(p)\n",
        "\n",
        "size = 'gigantic'\n",
        "print(f'\\nChanging order size to {size}')\n",
        "try:\n",
        "  p.size = size\n",
        "except ValueError as err:\n",
        "  print(err)\n"
      ],
      "metadata": {
        "colab": {
          "base_uri": "https://localhost:8080/"
        },
        "id": "BlU2hxKvqVpv",
        "outputId": "120417f9-5590-4fa8-bf2f-d9da1dbc9901"
      },
      "execution_count": 40,
      "outputs": [
        {
          "output_type": "stream",
          "name": "stdout",
          "text": [
            "Creating a default pizza\n",
            "medium pizza with ['cheese'] for $8.99\n",
            "\n",
            "Adding topping: ['cheese', 'olive']\n",
            "medium pizza with ['cheese', 'cheese', 'olive'] for $9.99\n",
            "\n",
            "Creating a new pizza\n",
            "large pizza with ['cheese', 'pepper'] for $11.49\n",
            "\n",
            "Adding topping: ['pineapple', 'mushroom']\n",
            "large pizza with ['cheese', 'pepper', 'pineapple', 'mushroom'] for $12.49\n",
            "\n",
            "Changing order size to x-large\n",
            "x-large pizza with ['cheese', 'pepper', 'pineapple', 'mushroom'] for $15.49\n",
            "\n",
            "Changing order size to gigantic\n",
            "ERROR: gigantic is not a valid size for a pizza\n"
          ]
        }
      ]
    }
  ]
}